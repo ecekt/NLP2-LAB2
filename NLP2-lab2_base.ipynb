{
 "cells": [
  {
   "cell_type": "code",
   "execution_count": 1,
   "metadata": {
    "collapsed": true
   },
   "outputs": [],
   "source": [
    "import numpy as np\n",
    "\n",
    "from scipy.stats import pearsonr\n",
    "from scipy.stats import spearmanr\n",
    "from sklearn.metrics.pairwise import cosine_similarity\n",
    "from scipy import spatial\n",
    "from scipy import stats\n",
    "\n",
    "import torch\n",
    "from torch.autograd import Variable\n",
    "import torch.nn as nn\n",
    "import torch.autograd as autograd\n",
    "import torch.optim as optim\n",
    "import torch.nn.functional as F\n",
    "torch.manual_seed(1)\n",
    "\n",
    "import time\n",
    "from datetime import datetime\n",
    "\n",
    "from collections import defaultdict\n",
    "from collections import Counter\n",
    "\n",
    "from random import randint\n",
    "import pickle\n",
    "\n",
    "import matplotlib.pyplot as plt\n",
    "import numpy as np\n",
    "\n",
    "import warnings\n",
    "warnings.filterwarnings('error')\n",
    "\n",
    "import string\n",
    "# puncs = set(string.punctuation)"
   ]
  },
  {
   "cell_type": "code",
   "execution_count": 77,
   "metadata": {
    "collapsed": true
   },
   "outputs": [],
   "source": [
    "portion = 29000\n",
    "\n",
    "#training sets\n",
    "with open('tokenized_low.BPE.en') as f:\n",
    "    train_en = [l.strip() for l in f.readlines()][:portion]\n",
    "with open('tokenized_low.BPE.fr') as f:\n",
    "    train_fr = [l.strip() for l in f.readlines()][:portion]\n",
    "\n",
    "#validation sets\n",
    "with open('val_tokenized_low.BPE.en') as f:\n",
    "    val_en = [l.strip() for l in f.readlines()]\n",
    "with open('val_tokenized_low.BPE.fr') as f:\n",
    "    val_fr = [l.strip() for l in f.readlines()]\n",
    "\n",
    "#test sets\n",
    "with open('test_tokenized.BPE.en') as f:\n",
    "    test_en = [l.strip() for l in f.readlines()]\n",
    "with open('test_tokenized.BPE.fr') as f:\n",
    "    test_fr = [l.strip() for l in f.readlines()]"
   ]
  },
  {
   "cell_type": "code",
   "execution_count": 78,
   "metadata": {
    "collapsed": true
   },
   "outputs": [],
   "source": [
    "#TODO\n",
    "# 0 PAD - padding 0 for convenience in masking?\n",
    "# 1 BOS - beginning of sentence\n",
    "# 2 EOS - end of sentence\n",
    "# 3 UNK - unknown"
   ]
  },
  {
   "cell_type": "code",
   "execution_count": 79,
   "metadata": {
    "collapsed": true
   },
   "outputs": [],
   "source": [
    "max_sentence_length = 100"
   ]
  },
  {
   "cell_type": "code",
   "execution_count": 80,
   "metadata": {
    "collapsed": true
   },
   "outputs": [],
   "source": [
    "def tokens_sentences(sentences):\n",
    "    tokens_list = []\n",
    "    sentence_list = []\n",
    "    for s in sentences:\n",
    "        split_sent = s.split()\n",
    "        sentence = []\n",
    "        for w in split_sent:\n",
    "#             if w not in puncs:\n",
    "            tokens_list.append(w)\n",
    "            sentence.append(w)\n",
    "\n",
    "        sentence_list.append(sentence)\n",
    "    \n",
    "    return tokens_list, sentence_list"
   ]
  },
  {
   "cell_type": "code",
   "execution_count": 81,
   "metadata": {},
   "outputs": [
    {
     "name": "stdout",
     "output_type": "stream",
     "text": [
      "m@@\n",
      "m@@\n",
      "563773\n",
      "812\n"
     ]
    }
   ],
   "source": [
    "tokens_list,sentence_list = tokens_sentences(train_en)\n",
    "\n",
    "print(tokens_list[4])\n",
    "print(sentence_list[0][4])\n",
    "\n",
    "print(len(tokens_list))\n",
    "print(len(sorted(set(tokens_list))))\n",
    "# print(set(tokens_list))"
   ]
  },
  {
   "cell_type": "code",
   "execution_count": 82,
   "metadata": {},
   "outputs": [
    {
     "name": "stdout",
     "output_type": "stream",
     "text": [
      "Vocabulary size EN 816\n",
      "Vocabulary size FR 862\n"
     ]
    }
   ],
   "source": [
    "tokens_list_en, sentence_list_en = tokens_sentences(train_en)\n",
    "\n",
    "tokens_train_en = ['<PAD>', '<SOS>', '<EOS>', '<UNK>']\n",
    "tokens_train_en.extend(list(sorted(set(tokens_list_en))))\n",
    "vocab_size_en = len(tokens_train_en)\n",
    "print('Vocabulary size EN', vocab_size_en)\n",
    "\n",
    "count_tokens_train_en = Counter(tokens_list_en)\n",
    "\n",
    "tokens_list_fr, sentence_list_fr = tokens_sentences(train_fr)\n",
    "\n",
    "tokens_train_fr = ['<PAD>', '<SOS>', '<EOS>', '<UNK>']\n",
    "tokens_train_fr.extend(list(sorted(set(tokens_list_fr))))\n",
    "vocab_size_fr = len(tokens_train_fr)\n",
    "print('Vocabulary size FR', len(tokens_train_fr))\n",
    "\n",
    "count_tokens_train_fr = Counter(tokens_list_fr)"
   ]
  },
  {
   "cell_type": "code",
   "execution_count": 83,
   "metadata": {
    "collapsed": true
   },
   "outputs": [],
   "source": [
    "def get_id_dicts(tokens):\n",
    "    #default dictionary key:id value:token\n",
    "    id2tokens = defaultdict(str)\n",
    "\n",
    "    for i in range(len(tokens)):\n",
    "        id2tokens[i] = tokens[i]\n",
    "\n",
    "    #default dictionary key:token value:id\n",
    "    tokens2id = defaultdict(int)\n",
    "\n",
    "    for ind in id2tokens:\n",
    "        tokens2id[id2tokens[ind]] = ind\n",
    "\n",
    "    return tokens2id, id2tokens"
   ]
  },
  {
   "cell_type": "code",
   "execution_count": 84,
   "metadata": {},
   "outputs": [
    {
     "name": "stdout",
     "output_type": "stream",
     "text": [
      "816\n",
      "862\n"
     ]
    }
   ],
   "source": [
    "tokens2id_en, id2tokens_en = get_id_dicts(tokens_train_en)\n",
    "\n",
    "vocabulary_size_train_en = len(tokens2id_en)\n",
    "print(vocabulary_size_train_en)\n",
    "\n",
    "tokens2id_fr, id2tokens_fr = get_id_dicts(tokens_train_fr)\n",
    "\n",
    "vocabulary_size_train_fr = len(tokens2id_fr)\n",
    "print(vocabulary_size_train_fr)\n",
    "\n",
    "# print(tokens2id_en['m@@'])\n",
    "# print(id2tokens_en[1])"
   ]
  },
  {
   "cell_type": "code",
   "execution_count": 85,
   "metadata": {
    "collapsed": true
   },
   "outputs": [],
   "source": [
    "#building the corpora (list of list of ids) simultaneously \n",
    "def convert_corpora2id_both(sentence_list_en, sentence_list_fr, tokens2id_en, tokens2id_fr, max_sentence_length):\n",
    "    \n",
    "    #counts to check long sentences\n",
    "    counter_long = 0\n",
    "    \n",
    "    #convert dataset to ids\n",
    "    corpus2id_en = []\n",
    "    corpus2id_fr = []\n",
    "    \n",
    "    for s in range(len(sentence_list_en)):\n",
    "    \n",
    "        sentence2id_en = []\n",
    "        sentence2id_en.append(tokens2id_en['<SOS>'])\n",
    "        \n",
    "        sentence2id_fr = []\n",
    "        sentence2id_fr.append(tokens2id_fr['<SOS>'])\n",
    "        \n",
    "        sentence_en = sentence_list_en[s]\n",
    "        sentence_fr = sentence_list_fr[s]\n",
    "        \n",
    "        \n",
    "        for w_en in sentence_en:\n",
    "            word_id = tokens2id_en[w_en]\n",
    "            sentence2id_en.append(word_id)\n",
    "            \n",
    "        for w_fr in sentence_fr:\n",
    "            word_id = tokens2id_fr[w_fr]\n",
    "            sentence2id_fr.append(word_id)\n",
    "        \n",
    "        \n",
    "        sentence2id_en.append(tokens2id_en['<EOS>'])\n",
    "        sentence2id_fr.append(tokens2id_fr['<EOS>'])\n",
    "\n",
    "        if len(sentence2id_en) < max_sentence_length and len(sentence2id_fr) < max_sentence_length:\n",
    "            corpus2id_en.append(sentence2id_en)\n",
    "            corpus2id_fr.append(sentence2id_fr)\n",
    "        \n",
    "        else:\n",
    "            counter_long += 1\n",
    "#             print(sentence_list_en[s])\n",
    "#             print(sentence_list_fr[s])\n",
    "        \n",
    "    print('the number of sentences that were not added is',counter_long)       \n",
    "    return corpus2id_en, corpus2id_fr"
   ]
  },
  {
   "cell_type": "code",
   "execution_count": 86,
   "metadata": {},
   "outputs": [
    {
     "name": "stdout",
     "output_type": "stream",
     "text": [
      "the number of sentences that were not added is 0\n"
     ]
    }
   ],
   "source": [
    "# corpus2id_en = convert_corpus2id(sentence_list_en, tokens2id_en, max_sentence_length)\n",
    "# corpus2id_fr = convert_corpus2id(sentence_list_fr, tokens2id_fr, max_sentence_length)\n",
    "\n",
    "corpus2id_en, corpus2id_fr = convert_corpora2id_both(sentence_list_en,sentence_list_fr, tokens2id_en, tokens2id_fr, max_sentence_length)"
   ]
  },
  {
   "cell_type": "code",
   "execution_count": 87,
   "metadata": {},
   "outputs": [
    {
     "name": "stdout",
     "output_type": "stream",
     "text": [
      "there are  29000 french sentences\n",
      "there are  29000 english sentences\n"
     ]
    }
   ],
   "source": [
    "# print(corpus2id_en[0])\n",
    "\n",
    "print('there are ', len(corpus2id_fr), 'french sentences')\n",
    "print('there are ', len(corpus2id_en), 'english sentences')"
   ]
  },
  {
   "cell_type": "code",
   "execution_count": 88,
   "metadata": {},
   "outputs": [
    {
     "name": "stdout",
     "output_type": "stream",
     "text": [
      "['an', 'a@@', 'er@@', 'i@@', 'al', 'l@@', 'an@@', 'd@@', 's@@', 'ca@@', 'p@@', 'e', 'photo', 'of', 'b@@', 'ro@@', 'w@@', 'n@@', 'ing', 'g@@', 'ra@@', 's@@', 's@@', 'es', 'and', 'a', 'ca@@', 'st@@', 'l@@', 'e@@', '-@@', 'like', 'structure', 'pe@@', 'a@@', 'king', 'through', 'and', 'a', 'mountain', 'l@@', 'an@@', 'd@@', 's@@', 'ca@@', 'p@@', 'e', 'in', 'the', 'h@@', 'o@@', 'r@@', 'i@@', 'z@@', 'on', '.']\n",
      "['une', 'photo', 'a@@', 'é@@', 'ri@@', 'en@@', 'ne', 'd', '&@@', 'a@@', 'po@@', 's@@', ';@@', 'un', 'paysage', 'd', '&@@', 'a@@', 'po@@', 's@@', ';@@', 'herbe', 'b@@', 'r@@', 'u@@', 'n@@', 'i@@', 's@@', 's@@', 'an@@', 'te', 'avec', 'une', 'sorte', 'de', 'c@@', 'h@@', 'â@@', 't@@', 'eau', 'c@@', 'u@@', 'l@@', 'm@@', 'in@@', 'ant', ',', 'et', 'un', 'paysage', 'm@@', 'o@@', 'n@@', 'ta@@', 'g@@', 'n@@', 'e@@', 'u@@', 'x', 'à', 'l', '&@@', 'a@@', 'po@@', 's@@', ';@@', 'h@@', 'o@@', 'r@@', 'i@@', 'z@@', 'on', '.']\n",
      "['a', 'women', 'b@@', 'en@@', 'ding', 'over', 'with', 'a', 'kissing', 'ex@@', 'pre@@', 's@@', 's@@', 'i@@', 'on', 'at', 'a', 'black', 'p@@', 'ri@@', 'm@@', 'at@@', 'e', 'c@@', 're@@', 'at@@', 'u@@', 'r@@', 'e', 'while', 'standing', 'on', 'a', 'h@@', 'ar@@', 'wood', 'floor', '.']\n",
      "['une', 'femme', 'p@@', 'en@@', 'c@@', 'h@@', 'ée', 'vers', 'une', 'c@@', 'ré@@', 'a@@', 't@@', 'u@@', 'r@@', 'e', 'p@@', 'ri@@', 'm@@', 'a@@', 't@@', 'e', 'noire', 'en', 'ayant', 'l', '&@@', 'a@@', 'po@@', 's@@', ';@@', 'air', 'de', 'l', '&@@', 'a@@', 'po@@', 's@@', ';@@', 'e@@', 'm@@', 'b@@', 'ra@@', 's@@', 's@@', 'er', ',', 'debout', 'sur', 'un', 'p@@', 'l@@', 'an@@', 'c@@', 'h@@', 'er', 'en', 'bois', '.']\n",
      "['a', 'white', 'truck', 't@@', 'r@@', 'an@@', 's@@', 'po@@', 'r@@', 't', 't@@', 'ra@@', 'i@@', 'l@@', 'er', 'with', 'one', 'en@@', 'd', 'c@@', 'r@@', 'u@@', 'm@@', 'p@@', 'l@@', 'e@@', 'd', 'and', 'the', 'w@@', 'o@@', 'r@@', 'd', '&quot;', 'n@@', 'o@@', 't@@', 'h@@', 'ing', 'l@@', 'e@@', 'f', 'n@@', 'o@@', 't@@', 'h@@', 'ing', 'right', '&quot;', 's@@', 'c@@', 'ra@@', 'w@@', 'led', 'on', 'it', 'side', 'on', 'a', 'dirt', 'ground', '.']\n",
      "['une', 're@@', 'm@@', 'o@@', 'r@@', 'que', 'de', 't@@', 'r@@', 'an@@', 'sport', 'blanche', 'avec', 'une', 'ex@@', 't@@', 'r@@', 'é@@', 'm@@', 'i@@', 't@@', 'é', 'f@@', 'ro@@', 'i@@', 's@@', 's@@', 'ée', 'et', 'les', 'mo@@', 'ts', '&quot;', 'n@@', 'o@@', 't@@', 'h@@', 'in@@', 'g', 'l@@', 'e@@', 'f', 'n@@', 'o@@', 't@@', 'h@@', 'in@@', 'g', 'ri@@', 'g@@', 'h@@', 't', '&quot;', 'g@@', 'ri@@', 'bou@@', 'i@@', 'l@@', 'l@@', 'és', 'dessus', ',', 'sur', 'un', 'sol', 'en', 'terre', '.']\n",
      "['a', 'young', 'b@@', 'l@@', 'o@@', 'n@@', 'd@@', 'e', 'man', 'in', 'a', 'red', 'r@@', 'u@@', 'g@@', 'by', 'uniform', 'with', 'a', 'white', 'and', 'blue', 'r@@', 'u@@', 'g@@', 'by', 'ball', 'in', 'his', 'right', 'hand', 'runs', 'from', 'the', 'other', 'o@@', 'p@@', 'po@@', 'n@@', 'en@@', 'ts', 'in', 'white', 'and', 'red', 'uniforms', '.']\n",
      "['un', 'jeune', 'homme', 'blond', 'en', 'tenue', 'de', 'r@@', 'u@@', 'g@@', 'b@@', 'y', 'rouge', 'avec', 'un', 'ballon', 'de', 'r@@', 'u@@', 'g@@', 'b@@', 'y', 'blanc', 'et', 'bleu', 'dans', 'sa', 'main', 'droite', 's', '&@@', 'a@@', 'po@@', 's@@', ';@@', 'é@@', 'l@@', 'o@@', 'i@@', 'g@@', 'ne', 'en', 'courant', 'des', 'autres', 'a@@', 'd@@', 'v@@', 'e@@', 'r@@', 's@@', 'a@@', 'i@@', 'r@@', 'es', 'en', 'tenues', 'blanches', 'et', 'rouges', '.']\n",
      "['a', 'man', 'in', 'a', 'red', 'and', 'black', 'uniform', 'is', 'being', 'h@@', 'e@@', 'l@@', 'd', 'up', 'by', 'a', 't@@', 'e@@', 'a@@', 'm@@', 'm@@', 'at@@', 'e', 'as', 'he', 'tries', 'to', 'catch', 'the', 'ball', 'while', 'several', 'other', 't@@', 'e@@', 'a@@', 'm@@', 'm@@', 'at@@', 'es', 't@@', 'r@@', 'y', 'to', 'a@@', 's@@', 's@@', 'i@@', 's@@', 't', 'them', '.']\n",
      "['un', 'homme', 'en', 'tenue', 'rouge', 'et', 'noire', 'est', 's@@', 'o@@', 'u@@', 't@@', 'en@@', 'u', 'par', 'un', 'c@@', 'o@@', 'é@@', 'qu@@', 'i@@', 'p@@', 'i@@', 'er', 'tandis', 'q@@', 'u', '&@@', 'a@@', 'po@@', 's@@', ';@@', 'il', 'tente', 'd', '&@@', 'a@@', 'po@@', 's@@', ';@@', 'attraper', 'le', 'ballon', 'et', 'que', 'plusieurs', 'autres', 'c@@', 'o@@', 'é@@', 'qu@@', 'i@@', 'p@@', 'i@@', 'e@@', 'r@@', 's', 'e@@', 's@@', 's@@', 'a@@', 'y@@', 'ent', 'de', 'les', 'a@@', 'i@@', 'd@@', 'er', '.']\n",
      "['a', 'young', 'girl', 'in', 'a', 'black', 'short', 's@@', 'l@@', 'e@@', 'e@@', 'v@@', 'ed', 'shirt', 'and', 'a', 'long', 'pink', 'skirt', 'has', 'a', 'long', ',', 't@@', 'h@@', 'in', 'ba@@', 'm@@', 'b@@', 'o@@', 'o', 'stick', 'in', 'her', 'hand', 'and', 'looks', 'down', 'at', 'the', 'm@@', 'o@@', 'i@@', 's@@', 't', ',', 'pe@@', 'b@@', 'b@@', 'l@@', 'ed', 's@@', 'o@@', 'i@@', 'l', 'near', 'a', 'large', 'lake', '.']\n",
      "['une', 'jeune', 'fille', 'avec', 'un', 't-shirt', 'noir', 'et', 'une', 'longue', 'jupe', 'rose', 'a', 'un', 'long', 'et', 'm@@', 'in@@', 'ce', 'bâton', 'de', 'ba@@', 'm@@', 'b@@', 'o@@', 'u', 'à', 'la', 'main', 'et', 'regarde', 'le', 'sol', 'h@@', 'u@@', 'm@@', 'i@@', 'de', 'et', 'ro@@', 'ca@@', 'i@@', 'l@@', 'l@@', 'e@@', 'u@@', 'x', 'près', 'd', '&@@', 'a@@', 'po@@', 's@@', ';@@', 'un', 'grand', 'lac', '.']\n",
      "['old', 'd@@', 'i@@', 'r@@', 't@@', 'y', 'si@@', 'g@@', 'n@@', 'al', 'that', 'c@@', 'l@@', 'e@@', 'ar@@', 'ly', 'ex@@', 'p@@', 'la@@', 'ins', 'that', 'in', 'that', 'place', 'y@@', 'o@@', 'u', 'have', 'to', 'park', 'di@@', 'a@@', 'g@@', 'o@@', 'n@@', 'al@@', 'ly']\n",
      "['un', 'vieux', 'panneau', 's@@', 'a@@', 'le', 'qui', 'ex@@', 'p@@', 'li@@', 'que', 'c@@', 'la@@', 'i@@', 're@@', 'ment', 'q@@', 'u', '&@@', 'a@@', 'po@@', 's@@', ';@@', 'à', 'c@@', 'et', 'en@@', 'd@@', 'ro@@', 'i@@', 't', 'v@@', 'o@@', 'u@@', 's', 'd@@', 'e@@', 'v@@', 'e@@', 'z', 'v@@', 'o@@', 'u@@', 's', 'g@@', 'ar@@', 'er', 'en', 'di@@', 'a@@', 'g@@', 'o@@', 'n@@', 'a@@', 'le']\n",
      "['a', 'football', 'team', 'with', 'white', 'and', 'red', 'j@@', 'er@@', 'se@@', 'y@@', 's', 'has', 'just', 's@@', 'c@@', 'o@@', 'red', 'against', 'a', 'team', 'wearing', 'blue', 'and', 'white', 'j@@', 'er@@', 'se@@', 'y@@', 's', 's@@', 'o', 'they', 'are', 'c@@', 'e@@', 'l@@', 'e@@', 'b@@', 'r@@', 'at@@', 'ing', 'bu@@', 't', 'it', 'appears', 'that', 'a', 'm@@', 'e@@', 'm@@', 'b@@', 'er', 'from', 'the', 'blue', 'and', 'white', 'team', 'has', 'be@@', 'e@@', 'n', 'h@@', 'u@@', 'r@@', 't', 'in', 'the', 'background']\n",
      "['une', 'équipe', 'de', 'football', 'américain', 'en', 'maillots', 'blancs', 'et', 'rouges', 'vient', 'de', 'mar@@', 'qu@@', 'er', 'contre', 'une', 'équipe', 'en', 'maillots', 'bleus', 'et', 'blancs', ',', 'd@@', 'o@@', 'n@@', 'c', 'ils', 'c@@', 'é@@', 'l@@', 'è@@', 'b@@', 'r@@', 'ent', 'le', 'point', 'm@@', 'a@@', 'is', 'il', 'semble', 'q@@', 'u', '&@@', 'a@@', 'po@@', 's@@', ';@@', 'un', 'm@@', 'e@@', 'm@@', 'b@@', 'r@@', 'e', 'de', 'l', '&@@', 'a@@', 'po@@', 's@@', ';@@', 'équipe', 'bleue', 'et', 'blanche', 'en', 'arrière-plan', 'a', 'été', 'b@@', 'l@@', 'e@@', 's@@', 's@@', 'é']\n",
      "['a', 'large', ',', 'sh@@', 'al@@', 'lo@@', 'w', ',', 'g@@', 're@@', 'en@@', 'i@@', 'sh@@', '-@@', 'blue', 'lake', 'is', 'surrounded', 'tall', ',', 't@@', 'h@@', 'in', ',', 'c@@', 'o@@', 'n@@', 'i@@', 'c', ',', 'green', 'trees', 'with', 'a', 'g@@', 're@@', 'y', 'mountain', 'r@@', 'an@@', 'g@@', 'e', 'in', 'the', 'distance', '.']\n",
      "['un', 'grand', 'lac', 'peu', 'p@@', 'ro@@', 'f@@', 'o@@', 'n@@', 'd', 'avec', 'une', 'eau', 'b@@', 'l@@', 'e@@', 'u@@', '-@@', 'v@@', 'e@@', 'r@@', 'd@@', 'â@@', 't@@', 'r@@', 'e', 'est', 'entouré', 'de', 'grands', 'et', 'm@@', 'in@@', 'ces', 'arbres', 'verts', 'de', 'forme', 'con@@', 'i@@', 'que', ',', 'avec', 'une', 'c@@', 'h@@', 'a@@', 'î@@', 'ne', 'de', 'montagnes', 'au', 'loin', '.']\n",
      "['a', 'little', 'boy', 'is', 'a@@', 's@@', 'l@@', 'e@@', 'e@@', 'p', 'in', 'bed', 'holding', 'a', 'm@@', 'a@@', 'g@@', 'a@@', 'z@@', 'in@@', 'e', 'while', 'his', 'st@@', 'u@@', 'f@@', 'f@@', 'ed', 'animal', 'f@@', 'ri@@', 'en@@', 'd', 'is', 'a@@', 's@@', 'l@@', 'e@@', 'e@@', 'p', 'in', 'a', 'm@@', 'a@@', 'k@@', 'e@@', 'sh@@', 'i@@', 'f@@', 't', 'bed', 'on', 'the', 'floor', 'beside', 'him']\n",
      "['un', 'petit', 'garçon', 'est', 'en@@', 'd@@', 'o@@', 'r@@', 'm@@', 'i', 'dans', 'un', 'lit', ',', 'tenant', 'un', 'm@@', 'a@@', 'g@@', 'a@@', 'z@@', 'ine', 'tandis', 'que', 'son', 'a@@', 'm@@', 'i', 'en', 'p@@', 'e@@', 'l@@', 'u@@', 'c@@', 'h@@', 'e', 'dort', 'dans', 'un', 'lit', 'de', 'f@@', 'o@@', 'r@@', 't@@', 'une', 'sur', 'le', 'sol', 'à', 'côté', 'de', 'lui']\n",
      "['a', 'large', 'dark', 'colored', 'bird', 'with', 'a', 'huge', 'w@@', 'in@@', 'g@@', 's@@', 'p@@', 'and', 'has', 'just', 'di@@', 'v@@', 'ed', 'into', 'the', 'water', 'and', 'g@@', 'o@@', 't@@', 't@@', 'e@@', 'n', 'a', 'fish', '.']\n",
      "['un', 'grand', 'o@@', 'i@@', 's@@', 'eau', 'de', 'couleur', 'sombre', 'avec', 'une', 'é@@', 'n@@', 'o@@', 'r@@', 'me', 'en@@', 'v@@', 'e@@', 'r@@', 'g@@', 'u@@', 'r@@', 'e', 'vient', 'de', 'p@@', 'l@@', 'o@@', 'n@@', 'g@@', 'er', 'dans', 'l', '&@@', 'a@@', 'po@@', 's@@', ';@@', 'eau', 'et', 'd', '&@@', 'a@@', 'po@@', 's@@', ';@@', 'attraper', 'un', 'poisson', '.']\n",
      "['graffiti', 'on', 'a', 'wall', 'which', 'de@@', 'p@@', 'i@@', 'c@@', 'ts', 'a', 'red', 'f@@', 'o@@', 'x', 'running', 'and', 'm@@', 'o@@', 'r@@', 'p@@', 'h@@', 'ing', 'into', 'a', 'red', 'f@@', 'o@@', 'g', 'and', 'a@@', 'b@@', 'st@@', 'ra@@', 'c@@', 't', 'c@@', 'lo@@', 'c@@', 'ks', 'and', 'p@@', 'al@@', 'm', 'tree', 's@@', 'e@@', 't@@', 't@@', 'in@@', 'g@@', 's', '.']\n",
      "['un', 'g@@', 'ra@@', 'f@@', 'f@@', 'i@@', 't@@', 'i', 'sur', 'un', 'mur', 'f@@', 'i@@', 'g@@', 'u@@', 'r@@', 'ant', 'un', 'r@@', 'en@@', 'ar@@', 'd', 'rouge', 'courant', 'et', 'se', 't@@', 'r@@', 'an@@', 's@@', 'f@@', 'o@@', 'r@@', 'm@@', 'ant', 'en', 'b@@', 'r@@', 'o@@', 'u@@', 'i@@', 'l@@', 'l@@', 'ar@@', 'd', 'rouge', ',', 'avec', 'des', 'p@@', 'a@@', 'y@@', 's@@', 'a@@', 'ges', 'a@@', 'b@@', 's@@', 't@@', 'ra@@', 'i@@', 't@@', 's', 'd', '&@@', 'a@@', 'po@@', 's@@', ';@@', 'h@@', 'o@@', 'r@@', 'l@@', 'o@@', 'ges', 'et', 'de', 'p@@', 'al@@', 'm@@', 'i@@', 'e@@', 'r@@', 's', '.']\n",
      "['a', 'small', 'white', 'm@@', 'al@@', 't@@', 'e@@', 's@@', 'e', 'dog', 'is', 'standing', 'on', 'a', 'g@@', 'ro@@', 'o@@', 'm@@', 'ing', 'table', 'at', 'a', 'dog', 'show', 'while', 'its', 'o@@', 'w@@', 'n@@', 'er', 'sits', 'behind', 'it', '.']\n",
      "['un', 'petit', 'b@@', 'i@@', 'c@@', 'h@@', 'on', 'm@@', 'al@@', 'ta@@', 'is', 'blanc', 'est', 'sur', 'une', 'table', 'de', 't@@', 'o@@', 'i@@', 'l@@', 'e@@', 't@@', 'ta@@', 'g@@', 'e', 'lors', 'd', '&@@', 'a@@', 'po@@', 's@@', ';@@', 'un', 'spectacle', 'c@@', 'an@@', 'in', ',', 'tandis', 'que', 'sa', 'p@@', 'ro@@', 'p@@', 'ri@@', 'é@@', 'ta@@', 'i@@', 'r@@', 'e', 'est', 'assise', 'derrière', 'lui', '.']\n",
      "['two', 'b@@', 'i@@', 'r@@', 'ds', 'hanging', 'onto', 'w@@', 'i@@', 'r@@', 'e', 'm@@', 'e@@', 's@@', 'h', 'of', 'c@@', 'y@@', 'l@@', 'in@@', 'd@@', 'ri@@', 'ca@@', 'l', 'bird', 'f@@', 'e@@', 'e@@', 'der', '.']\n",
      "['deux', 'o@@', 'i@@', 's@@', 'e@@', 'aux', 's', '&@@', 'a@@', 'po@@', 's@@', ';@@', 'ac@@', 'c@@', 'ro@@', 'c@@', 'h@@', 'ant', 'à', 'la', 'g@@', 'r@@', 'i@@', 'l@@', 'le', 'd', '&@@', 'a@@', 'po@@', 's@@', ';@@', 'une', 'm@@', 'an@@', 'g@@', 'e@@', 'o@@', 'i@@', 'r@@', 'e', 'pour', 'o@@', 'i@@', 's@@', 'e@@', 'aux', 'c@@', 'y@@', 'l@@', 'in@@', 'd@@', 'ri@@', 'que', '.']\n",
      "['a', 'young', 'woman', 'with', 'dark', 'hair', 'p@@', 'u@@', 'l@@', 'led', 'back', 'at', 'her', 'n@@', 'e@@', 'c@@', 'k', 'and', 'a', 'dark', 'shirt', 'holding', 'a', 'white', 'piece', 'of', 'paper', 'with', 'a', 'black', 'h@@', 'e@@', 'art', 'o@@', 'u@@', 't@@', 'line', 'd@@', 'ra@@', 'w@@', 'n', 'on', 'it', 'with', 'an', 'older', 'woman', 'holding', 'flowers', 'in', 'the', 'f@@', 'o@@', 're@@', 'front', 'out', 'of', 'f@@', 'o@@', 'c@@', 'u@@', 's']\n",
      "['une', 'jeune', 'femme', 'avec', 'des', 'cheveux', 'bruns', 't@@', 'i@@', 'r@@', 'és', 'en', 'arrière', 'sur', 'sa', 'n@@', 'u@@', 'que', 'et', 'un', 'haut', 'noir', 'tenant', 'une', 'f@@', 'e@@', 'u@@', 'i@@', 'l@@', 'le', 'de', 'papier', 'blanche', 'avec', 'un', 'c@@', 'œ@@', 'u@@', 'r', 'noir', 'd@@', 'e@@', 's@@', 's@@', 'in@@', 'é', 'à', 'la', 'main', 'dessus', ',', 'et', 'une', 'vieille', 'femme', 'f@@', 'l@@', 'o@@', 'u@@', 'e', 'tenant', 'des', 'fleurs', 'au', 'premier', 'plan']\n",
      "['a', 'group', 'of', 'ro@@', 'w', 'h@@', 'o@@', 'u@@', 's@@', 'es', 'lit', 'up', 'with', 'm@@', 'u@@', 'l@@', 'ti@@', 'colored', 's@@', 'po@@', 't', 'lights', 'along', 'a', 'w@@', 'at@@', 'er@@', 'way']\n",
      "['un', 'groupe', 'de', 'm@@', 'a@@', 'i@@', 's@@', 'o@@', 'n@@', 's', 'al@@', 'i@@', 'g@@', 'n@@', 'ées', 'et', 'é@@', 'c@@', 'la@@', 'i@@', 'r@@', 'ées', 'avec', 'des', 'l@@', 'u@@', 'm@@', 'i@@', 'è@@', 'r@@', 'es', 'm@@', 'u@@', 'l@@', 'ti@@', 'c@@', 'o@@', 'l@@', 'o@@', 'r@@', 'es', 'le', 'long', 'd', '&@@', 'a@@', 'po@@', 's@@', ';@@', 'une', 'v@@', 'o@@', 'ie', 'n@@', 'a@@', 'v@@', 'i@@', 'g@@', 'a@@', 'b@@', 'le']\n",
      "['two', 'people', 'look', 'up', 'at', 'a', 'large', 't@@', 'ri@@', 'po@@', 'd', 'like', 'structure', 'along', 'a', 'rocky', 'brown', 'sh@@', 'o@@', 'r@@', 'line', 'filled', 'with', 's@@', 'c@@', 'at@@', 't@@', 'er@@', 'ed', 'p@@', 'u@@', 'd@@', 'd@@', 'l@@', 'es', '.']\n",
      "['deux', 'personnes', 'regardent', 'en', 'l', '&@@', 'a@@', 'po@@', 's@@', ';@@', 'air', 'vers', 'une', 'grande', 'structure', 'en', 't@@', 'r@@', 'é@@', 'pied', 'le', 'long', 'd', '&@@', 'a@@', 'po@@', 's@@', ';@@', 'un', 'l@@', 'i@@', 't@@', 't@@', 'o@@', 'r@@', 'a@@', 'l', 'ro@@', 'c@@', 'h@@', 'e@@', 'u@@', 'x', 'brun', 'rempli', 'de', 'f@@', 'la@@', 'ques', 'd', '&@@', 'a@@', 'po@@', 's@@', ';@@', 'eau', 'é@@', 'par@@', 'ses', '.']\n",
      "['an', 'man', 'in', 'his', '5@@', '0@@', 's', 'with', 'a', 'striped', 'bu@@', 't@@', 't@@', 'on', 'down', 'shirt', 'and', 'blue', 'jeans', 'is', 'sitting', 'on', 'the', 'sidewalk', ',', 'leaning', 'against', 'a', 'b@@', 'ar@@', 'ri@@', 'er', 'wall', 'with', 'his', 'hand', 're@@', 'st@@', 'ing', 'on', 'his', 'head', 'as', 'i@@', 'f', 'he', 'is', 'u@@', 'p@@', 'set', '.']\n",
      "['un', 'homme', 'dans', 'la', 'c@@', 'in@@', 'qu@@', 'an@@', 'ta@@', 'ine', 'avec', 'une', 'chemise', 'rayée', 'et', 'un', 'jean', 'est', 'assis', 'sur', 'le', 'trottoir', ',', 'a@@', 'p@@', 'p@@', 'u@@', 'y@@', 'é', 'contre', 'un', 'm@@', 'u@@', 're@@', 't', 'avec', 'sa', 'main', 'po@@', 's@@', 'ée', 'sur', 'sa', 'tête', ',', 'comme', 's', '&@@', 'a@@', 'po@@', 's@@', ';@@', 'il', 'é@@', 't@@', 'a@@', 'i@@', 't', 'bou@@', 'l@@', 'e@@', 'v@@', 'e@@', 'r@@', 's@@', 'é', '.']\n",
      "['behind', 'a', 'b@@', 'ar@@', 'b', 'w@@', 'i@@', 'red', 'fence', ',', 'there', 'is', 'a', 'large', 'a@@', 'd', 'on', 'the', 'side', 'of', 'the', 'building', 'above', 'a', 'ro@@', 'w', 'of', 'cars', ',', 'showing', 'a', 'red', 'f@@', 'o@@', 'x', 'running', 'with', 'two', 'small', 'red', ',', 'white', ',', 'and', 'dark', 'g@@', 're@@', 'y', 'b@@', 'i@@', 'r@@', 'ds', '.']\n",
      "['derrière', 'une', 'clôture', 'b@@', 'ar@@', 'b@@', 'e@@', 'l@@', 'ée', ',', 'il', 'y', 'a', 'une', 'grande', 'a@@', 'f@@', 'f@@', 'i@@', 'c@@', 'h@@', 'e', 'sur', 'la', 'f@@', 'a@@', 'ç@@', 'a@@', 'de', 'd', '&@@', 'a@@', 'po@@', 's@@', ';@@', 'un', 'bâtiment', 'au-dessus', 'd', '&@@', 'a@@', 'po@@', 's@@', ';@@', 'une', 'r@@', 'an@@', 'g@@', 'ée', 'de', 'voitures', ',', 'm@@', 'o@@', 'n@@', 't@@', 'r@@', 'ant', 'un', 'r@@', 'en@@', 'ar@@', 'd', 'qui', 'court', 'avec', 'deux', 'petits', 'o@@', 'i@@', 's@@', 'e@@', 'aux', 'rouges', ',', 'blancs', 'et', 'gris', 'foncé', '.']\n",
      "['a', 'bull', 'rider', 'is', 'being', 't@@', 'h@@', 'ro@@', 'w@@', 'n', 'by', 'a', 'bull', 'at', 'a', 'rodeo', 'as', 'the', 'c@@', 'lo@@', 'w@@', 'n@@', 's', 't@@', 'r@@', 'y', 'to', 'h@@', 'e@@', 'l@@', 'p', '.']\n",
      "['un', 'c@@', 'a@@', 'v@@', 'al@@', 'i@@', 'er', 'est', 'é@@', 'j@@', 'e@@', 'c@@', 'té', 'd', '&@@', 'a@@', 'po@@', 's@@', ';@@', 'un', 'taureau', 'lors', 'd', '&@@', 'a@@', 'po@@', 's@@', ';@@', 'un', 'rodéo', 'tandis', 'que', 'les', 'c@@', 'l@@', 'o@@', 'w@@', 'n@@', 's', 'e@@', 's@@', 's@@', 'a@@', 'y@@', 'ent', 'de', 'l', '&@@', 'a@@', 'po@@', 's@@', ';@@', 'a@@', 'i@@', 'd@@', 'er', '.']\n",
      "['a', 'gray', 'mountain', 'r@@', 'an@@', 'g@@', 'e', 'with', 'snowy', 'pe@@', 'a@@', 'ks', 'against', 'a', 'st@@', 'o@@', 'r@@', 'm@@', 'y', 'c@@', 'l@@', 'o@@', 'u@@', 'd', 'b@@', 'a@@', 'c@@', 'k@@', 'd@@', 'ro@@', 'p', 'and', 'tall', 'grass', 'in', 'the', 'front', '.']\n",
      "['une', 'c@@', 'h@@', 'a@@', 'î@@', 'ne', 'de', 'montagnes', 'g@@', 'ri@@', 'ses', 'avec', 'des', 's@@', 'o@@', 'm@@', 'm@@', 'e@@', 'ts', 'en@@', 'n@@', 'e@@', 'i@@', 'g@@', 'és', 'devant', 'un', 'arrière-plan', 'n@@', 'u@@', 'a@@', 'g@@', 'e@@', 'u@@', 'x', 'et', 'o@@', 'r@@', 'a@@', 'g@@', 'e@@', 'u@@', 'x', ',', 'et', 'des', 'h@@', 'e@@', 'r@@', 'b@@', 'es', 'h@@', 'a@@', 'u@@', 't@@', 'es', 'au', 'premier', 'plan', '.']\n",
      "['c@@', 'l@@', 'e@@', 'a@@', 'r', 'view', 'of', 'a', 're@@', 'd@@', 'd@@', 'i@@', 's@@', 'h', 'de@@', 's@@', 'er@@', 't', 'c@@', 'an@@', 'y@@', 'on', ',', 'with', 'a', 'green', 'c@@', 'an@@', 'y@@', 'on', 'floor', 'with', 'green', 'trees', ',', 'dark', 'sky', 'background', '.']\n",
      "['vue', 'dé@@', 'g@@', 'a@@', 'g@@', 'ée', 'sur', 'un', 'c@@', 'an@@', 'y@@', 'on', 'dé@@', 's@@', 'e@@', 'r@@', 'ti@@', 'que', 'r@@', 'o@@', 'u@@', 'g@@', 'e@@', 'â@@', 't@@', 'r@@', 'e', ',', 'avec', 'une', 'v@@', 'al@@', 'l@@', 'ée', 'v@@', 'e@@', 'r@@', 'd@@', 'o@@', 'y@@', 'an@@', 'te', 'et', 'des', 'arbres', 'verts', ',', 'ciel', 'sombre', 'à', 'l', '&@@', 'a@@', 'po@@', 's@@', ';@@', 'arrière', 'plan', '.']\n",
      "['this', 'is', 'a', 'scene', 'of', 'a', 'body', 'of', 'water', 'with', 'b@@', 'o@@', 'at@@', 's', 'in', 'the', 'background', 'surrounded', 'by', 'trees', '.']\n",
      "['c', '&@@', 'a@@', 'po@@', 's@@', ';@@', 'est', 'une', 'scène', 'd', '&@@', 'a@@', 'po@@', 's@@', ';@@', 'un', 'plan', 'd', '&@@', 'a@@', 'po@@', 's@@', ';@@', 'eau', 'avec', ',', 'à', 'l', '&@@', 'a@@', 'po@@', 's@@', ';@@', 'arrière', 'plan', ',', 'des', 'b@@', 'a@@', 't@@', 'e@@', 'aux', 'en@@', 't@@', 'o@@', 'u@@', 'r@@', 'és', 'd', '&@@', 'a@@', 'po@@', 's@@', ';@@', 'arbres', '.']\n",
      "['2', 'bicycles', 'parked', 'by', 'a', 'po@@', 's@@', 't', 'on', 'a', 'w@@', 'al@@', 'k@@', 'way', 'along', 'the', 's@@', 'an@@', 'd@@', 'y', 'beach', ',', 'with', 'p@@', 'al@@', 'm', 'trees', ',', 'c@@', 'l@@', 'e@@', 'a@@', 'r', 'blue', 'w@@', 'at@@', 'ers', 'and', 'a', 'c@@', 'l@@', 'e@@', 'a@@', 'r', 'blue', 'sky', '.']\n",
      "['2', 'vélos', 'g@@', 'ar@@', 'és', 'à', 'c@@', 'o@@', 'té', 'd', '&@@', 'a@@', 'po@@', 's@@', ';@@', 'un', 'poteau', 'sur', 'une', 'p@@', 'r@@', 'o@@', 'm@@', 'en@@', 'a@@', 'de', 'le', 'long', 'de', 'la', 'plage', 'de', 'sable', ',', 'avec', 'des', 'p@@', 'al@@', 'm@@', 'i@@', 'e@@', 'r@@', 's', ',', 'des', 'e@@', 'aux', 'bleues', 'c@@', 'la@@', 'i@@', 'r@@', 'es', 'et', 'un', 'ciel', 'bleu', 'clair', '.']\n",
      "['the', 'sun', 'sh@@', 'in@@', 'es', 'over', 'a', 're@@', 'd@@', 'd@@', 'i@@', 's@@', 'h', 'brown', 'c@@', 'an@@', 'y@@', 'on', 'r@@', 'an@@', 'g@@', 'e', ',', 'd@@', 'i@@', 's@@', 'playing', 'all', 'the', 'de@@', 'e@@', 'p', 'ri@@', 'd@@', 'g@@', 'es', '.']\n",
      "['le', 'soleil', 'b@@', 'r@@', 'i@@', 'l@@', 'le', 'au-dessus', 'd', '&@@', 'a@@', 'po@@', 's@@', ';@@', 'un', 'c@@', 'an@@', 'y@@', 'on', 'brun', 'r@@', 'o@@', 'u@@', 'g@@', 'e@@', 'â@@', 't@@', 'r@@', 'e', ',', 'm@@', 'o@@', 'n@@', 't@@', 'r@@', 'ant', 't@@', 'o@@', 'u@@', 't@@', 'es', 'les', 'c@@', 'r@@', 'ê@@', 't@@', 'es', 'p@@', 'ro@@', 'f@@', 'o@@', 'n@@', 'des', '.']\n",
      "the number of sentences that were not added is 0\n",
      "there are  1000 english test sentences\n",
      "there are  1000 french test sentences\n"
     ]
    }
   ],
   "source": [
    "#get test sentences \n",
    "\n",
    "test_tokens_list_en,test_sentence_list_en = tokens_sentences(test_en)\n",
    "test_tokens_list_fr,test_sentence_list_fr = tokens_sentences(test_fr)\n",
    "\n",
    "for sent in range(len(test_sentence_list_en)):\n",
    "    if len(test_sentence_list_en[sent]) > 50 or len(test_sentence_list_fr[sent]) > 50:\n",
    "        print(test_sentence_list_en[sent])\n",
    "        print(test_sentence_list_fr[sent])\n",
    "\n",
    "test_corpus2id_en, test_corpus2id_fr = convert_corpora2id_both(test_sentence_list_en,test_sentence_list_fr, tokens2id_en, tokens2id_fr, max_sentence_length)\n",
    "\n",
    "print('there are ', len(test_corpus2id_en), 'english test sentences')\n",
    "print('there are ', len(test_corpus2id_fr), 'french test sentences')\n"
   ]
  },
  {
   "cell_type": "code",
   "execution_count": 90,
   "metadata": {},
   "outputs": [
    {
     "name": "stdout",
     "output_type": "stream",
     "text": [
      "the number of sentences that were not added is 0\n",
      "there are  1014 english validation sentences\n",
      "there are  1014 french validation sentences\n"
     ]
    }
   ],
   "source": [
    "# get validation sentences \n",
    "\n",
    "val_tokens_list_en,val_sentence_list_en = tokens_sentences(val_en)\n",
    "val_tokens_list_fr,val_sentence_list_fr = tokens_sentences(val_fr)\n",
    "\n",
    "\n",
    "val_corpus2id_en, val_corpus2id_fr = convert_corpora2id_both(val_sentence_list_en,val_sentence_list_fr, tokens2id_en, tokens2id_fr, max_sentence_length)\n",
    "\n",
    "print('there are ', len(val_corpus2id_en), 'english validation sentences')\n",
    "print('there are ', len(val_corpus2id_fr), 'french validation sentences')\n"
   ]
  },
  {
   "cell_type": "code",
   "execution_count": 54,
   "metadata": {
    "collapsed": true
   },
   "outputs": [],
   "source": [
    "class NMTModel(nn.Module):\n",
    "    def __init__(self,vocab_size_fr, w_embedding_dim, p_embedding_dim, dec_embedding_dim, max_sentence_length, vocab_size_en, dropout_prob):\n",
    "        super(NMTModel, self).__init__()\n",
    "        \n",
    "        self.encoder = Encoder(vocab_size_fr, w_embedding_dim, p_embedding_dim, dec_embedding_dim, max_sentence_length,dropout_prob)\n",
    "        self.decoder = Decoder(dec_embedding_dim, vocab_size_en, max_sentence_length, dropout_prob)\n",
    "            \n",
    "    def forward(self, sent_fr, pos_fr, sent_en, train):\n",
    "        \n",
    "        average_context, stacked_contexts = self.encoder(sent_fr, pos_fr)\n",
    "        \n",
    "        pred, attention_weights = self.decoder(sent_en, average_context, stacked_contexts, train)\n",
    "          \n",
    "        return pred, attention_weights\n"
   ]
  },
  {
   "cell_type": "code",
   "execution_count": 93,
   "metadata": {
    "collapsed": true
   },
   "outputs": [],
   "source": [
    "\n",
    "class Encoder(nn.Module):\n",
    "    def __init__(self,vocab_size_fr, w_embedding_dim, p_embedding_dim, dec_embedding_dim, max_sentence_length, dropout_prob):\n",
    "        super(Encoder, self).__init__()\n",
    "        \n",
    "        self.vocab_size_fr = vocab_size_fr\n",
    "        self.max_sentence_length = max_sentence_length\n",
    "        \n",
    "        self.w_embedding_dim = w_embedding_dim\n",
    "        self.p_embedding_dim = p_embedding_dim\n",
    "        \n",
    "        initrange = 0.5 / self.w_embedding_dim\n",
    "        self.dec_embedding_dim = dec_embedding_dim\n",
    "        \n",
    "        #encoder\n",
    "        self.w_embeddings = nn.Embedding(self.vocab_size_fr, self.w_embedding_dim)\n",
    "        self.p_embeddings = nn.Embedding(self.max_sentence_length, self.p_embedding_dim)\n",
    "        \n",
    "        self.w_embeddings.weight.data.uniform_(-initrange, initrange)\n",
    "        self.p_embeddings.weight.data.uniform_(-initrange, initrange)\n",
    "        \n",
    "        self.dropout_prob = dropout_prob\n",
    "        self.dropout = nn.Dropout(self.dropout_prob)\n",
    "        \n",
    "        self.context_emb_dim = self.w_embedding_dim + self.p_embedding_dim\n",
    "        \n",
    "        #self.context_projection = nn.Linear(self.context_emb_dim, self.dec_embedding_dim)\n",
    "        #do we use non-linearity after attention\n",
    "        \n",
    "        #TODO: DROPOUT\n",
    "        \n",
    "        \n",
    "    def forward(self, sent_fr, pos_fr):\n",
    "        \n",
    "        #embedded = self.embedding(input).view(1, 1, -1)\n",
    "        #TODO:BATCH\n",
    "       \n",
    "        ws = self.w_embeddings(sent_fr)\n",
    "        ps = self.p_embeddings(pos_fr)\n",
    "        es = torch.cat((ws, ps), 1)\n",
    "        \n",
    "        if train:   \n",
    "            es = self.dropout(es)\n",
    "        else:\n",
    "            es = (1-self.dropout_prob)*es\n",
    "        \n",
    "        stacked_contexts = es\n",
    "        average_context = torch.mean(stacked_contexts, dim = 0)\n",
    "            \n",
    "        return average_context, stacked_contexts\n",
    "\n",
    "class Decoder(nn.Module):\n",
    "    def __init__(self, dec_embedding_dim, vocab_size_en, max_sentence_length, dropout_prob):\n",
    "        super(Decoder, self).__init__()\n",
    "        \n",
    "        self.vocab_size_en = vocab_size_en\n",
    "        self.max_sentence_length = max_sentence_length\n",
    "        \n",
    "        self.dec_embedding_dim = dec_embedding_dim*2\n",
    "        \n",
    "        self.dropout_prob = dropout_prob\n",
    "        self.dropout = nn.Dropout(self.dropout_prob)\n",
    "        \n",
    "        initrange = 0.5 / self.dec_embedding_dim\n",
    "        self.embedding = nn.Embedding(self.vocab_size_en, self.dec_embedding_dim)\n",
    "        \n",
    "        self.embedding.weight.data.uniform_(-initrange, initrange)        \n",
    "        \n",
    "        self.lstm = nn.LSTM(self.dec_embedding_dim, self.dec_embedding_dim)\n",
    "        #self.bidirLSTM = nn.LSTM(self.embedding_dim, self.embedding_dim, bidirectional=True)\n",
    "        #TODO: LSTM, GRU \n",
    "       \n",
    "        self.pre_rnn_affine = nn.Linear(self.dec_embedding_dim*2, self.dec_embedding_dim)\n",
    "        #a linear layer after this before softmax\n",
    "        self.out_affine = nn.Linear(self.dec_embedding_dim*2, self.vocab_size_en)\n",
    "               \n",
    "    \n",
    "    def forward(self, gold_target_sent, encoder_avg_context, encoder_stacked_contexts, train):\n",
    "        \n",
    "        if train:\n",
    "            pred = []\n",
    "            attentions = []\n",
    "\n",
    "            embeds = self.embedding(gold_target_sent)\n",
    "            embeds = self.dropout(embeds)\n",
    "\n",
    "            output, (hidden, cell) = self.lstm(embeds.view(-1,1,self.dec_embedding_dim),(encoder_avg_context.view(1, 1, -1), encoder_avg_context.view(1,1,-1)))\n",
    "\n",
    "            #print(output[-1], hidden) same\n",
    "            \n",
    "            \n",
    "            for w in range(len(gold_target_sent)-1):\n",
    "\n",
    "                sw = output[w]\n",
    "                cj = F.softmax(torch.matmul(sw,torch.transpose(encoder_stacked_contexts,0,1)), dim = 1)\n",
    "\n",
    "                c_vec = cj.view(-1,1) *  encoder_stacked_contexts.squeeze()\n",
    "                cj = torch.sum(c_vec, dim=0).view(1,-1)\n",
    "                \n",
    "#                 sw_temp = torch.stack([sw]*c_vec.shape[0], dim =1).squeeze()\n",
    "                \n",
    "                sw = torch.cat((sw, cj),dim=1)\n",
    "                \n",
    "                s_output = self.out_affine(sw)\n",
    "                s_output = F.log_softmax(s_output, dim=1)\n",
    "\n",
    "                pred.append(s_output)\n",
    "\n",
    "            pred = torch.stack(pred, dim=1)\n",
    "\n",
    "            return pred, attentions\n",
    "        \n",
    "        \n",
    "        else: #test\n",
    "            \n",
    "            decoder_outputs = []\n",
    "            decoder_attentions = []\n",
    "        \n",
    "            test_word = torch.tensor(np.asarray([tokens2id_en['<SOS>']]), dtype = torch.long)\n",
    "            \n",
    "            test_word_id = tokens2id_en['<SOS>']\n",
    "            \n",
    "            for w in range(self.max_sentence_length):\n",
    "       \n",
    "                if test_word_id == tokens2id_en['<EOS>']:\n",
    "                    \n",
    "                    break  \n",
    "                    \n",
    "                output = self.embedding(test_word)\n",
    "                output = (1-self.dropout_prob)*output\n",
    "            \n",
    "                if w == 0:\n",
    "        \n",
    "\n",
    "                    output, (hidden,cell) = self.lstm(output.view(1, 1, -1), (encoder_avg_context.view(1, 1, -1),encoder_avg_context.view(1, 1, -1)))\n",
    "                    prev_hidden = hidden\n",
    "\n",
    "                    sw = output[0]\n",
    "                    \n",
    "                    cj = F.softmax(torch.matmul(output[0],torch.transpose(encoder_stacked_contexts,0,1)), dim = 1)\n",
    "\n",
    "                    c_vec = cj.view(-1,1) *  encoder_stacked_contexts.squeeze()\n",
    "\n",
    "                    cj = torch.sum(c_vec, dim=0).view(1,-1)\n",
    "                \n",
    "#                     sw_temp = torch.stack([sw]*c_vec.shape[0], dim =1).squeeze()\n",
    "\n",
    "                    sw = torch.cat((sw, cj),dim=1)\n",
    "                \n",
    "\n",
    "                    s_output = self.out_affine(sw)\n",
    "                    s_output = F.log_softmax(s_output, dim=1)\n",
    "                    \n",
    "                    test_word_id = int(torch.argmax(s_output))\n",
    "                    test_word = torch.tensor(np.asarray([test_word_id]), dtype = torch.long)\n",
    "           \n",
    "                else:\n",
    "                \n",
    "                    output, (hidden,cell) = self.lstm(output.view(1, 1, -1), (prev_hidden.view(1, 1, -1),encoder_avg_context.view(1, 1, -1)))\n",
    "                    prev_hidden = hidden\n",
    "                    \n",
    "                    sw = output[0]\n",
    "                    \n",
    "                    cj = F.softmax(torch.matmul(output[0],torch.transpose(encoder_stacked_contexts,0,1)), dim = 1)\n",
    "\n",
    "                    c_vec = cj.view(-1,1) *  encoder_stacked_contexts.squeeze()\n",
    "\n",
    "                    cj = torch.sum(c_vec, dim=0).view(1,-1)\n",
    "                \n",
    "#                     sw_temp = torch.stack([sw]*c_vec.shape[0], dim =1).squeeze()\n",
    "\n",
    "                    sw = torch.cat((sw, cj),dim=1)\n",
    "                \n",
    "\n",
    "                    s_output = self.out_affine(sw)\n",
    "                    s_output = F.log_softmax(s_output, dim=1)\n",
    "                    \n",
    "                    test_word_id = int(torch.argmax(s_output))\n",
    "                    test_word = torch.tensor(np.asarray([test_word_id]), dtype = torch.long)\n",
    "        \n",
    "                decoder_outputs.append(test_word_id)\n",
    "            \n",
    "            return decoder_outputs, decoder_attentions\n",
    "               \n"
   ]
  },
  {
   "cell_type": "code",
   "execution_count": 94,
   "metadata": {},
   "outputs": [
    {
     "name": "stdout",
     "output_type": "stream",
     "text": [
      "epoch, total loss, duration\n",
      "0 3.7917049062149277 0:09:57.288479\n",
      "1 2.9614291548821434 0:10:14.879504\n",
      "2 2.621574180018285 0:09:52.862373\n",
      "3 2.3754117158296806 0:09:53.018689\n",
      "4 2.1862257827998235 0:09:52.453132\n",
      "5 2.0416554571983627 0:09:52.534084\n",
      "6 1.9213497346842596 0:09:50.578683\n",
      "7 1.8202147072602448 0:09:53.454025\n",
      "8 1.731010416029214 0:09:54.583644\n",
      "9 1.6518002719087848 0:09:54.640254\n",
      "10 1.584314538155522 0:09:53.566820\n",
      "11 1.5254024214329647 0:09:54.247966\n",
      "12 1.4726128892693027 0:09:52.116658\n",
      "13 1.4253209426831455 0:09:57.849104\n",
      "14 1.3861233501201173 0:09:54.931225\n",
      "15 1.3506026623073708 0:09:52.260916\n",
      "16 1.3163431777589922 0:09:55.150508\n",
      "17 1.2897341727779472 0:09:52.166247\n",
      "18 1.2645778631731097 0:09:55.681837\n",
      "19 1.2395215060310116 0:09:54.142874\n"
     ]
    },
    {
     "data": {
      "image/png": "[encoded data removed]",
      "text/plain": [
       "<matplotlib.figure.Figure at 0x1a27056fd0>"
      ]
     },
     "metadata": {},
     "output_type": "display_data"
    },
    {
     "name": "stdout",
     "output_type": "stream",
     "text": [
      "['<SOS>', 'deux', 'jeunes', 'hommes', 'blancs', 'sont', 'dehors', 'près', 'de', 'b@@', 'u@@', 'i@@', 's@@', 's@@', 'ons', '.', '<EOS>']\n",
      "['<SOS>', 'two', 'young', ',', 'white', 'm@@', 'al@@', 'es', 'are', 'outside', 'near', 'many', 'bu@@', 'sh@@', 'es', '.', '<EOS>']\n",
      "['two', 'young', 'white', 'are', 'outside', 'near', 'two', 'young', 'men', 'are', 'outside', 'a', 's@@', 'u@@', 'red', 'young', 'men', 'are', 'outside', 'of', 'two', 'young', 'men', 'are', 'outside', 'a', 's@@', 'u@@', 'red', 'young', 'men', 'are', 'outside', 'of', 'two', 'young', 'men', 'are', 'outside', 'a', 's@@', 'u@@', 'red', 'young', 'men', 'are', 'outside', 'of', 'two', 'young', 'men', 'are', 'outside', 'a', 's@@', 'u@@', 'red', 'young', 'men', 'are', 'outside', 'of', 'two', 'young', 'men', 'are', 'outside', 'a', 's@@', 'u@@', 'red', 'young', 'men', 'are', 'outside', 'of', 'two', 'young', 'men', 'are', 'outside', 'a', 's@@', 'u@@', 'red', 'young', 'men', 'are', 'outside', 'of', 'two', 'young', 'men', 'are', 'outside', 'a', 's@@', 'u@@', 'red', 'young']\n"
     ]
    }
   ],
   "source": [
    "epochs = 20\n",
    "learning_rate = 0.1\n",
    "w_embedding_dim = 100\n",
    "p_embedding_dim = 100\n",
    "dec_embedding_dim = 100\n",
    "dropout_prob = 0.1\n",
    "\n",
    "# model_encoder = Encoder(vocab_size_fr, w_embedding_dim, p_embedding_dim, dec_embedding_dim, max_sentence_length)\n",
    "# model_decoder = Decoder(dec_embedding_dim, vocab_size_en, max_sentence_length, dropout_prob)\n",
    "model_NMT = NMTModel(vocab_size_fr, w_embedding_dim, p_embedding_dim, dec_embedding_dim, max_sentence_length, vocab_size_en, dropout_prob)\n",
    "\n",
    "optimizer_NMT = optim.SGD(model_NMT.parameters(), lr = learning_rate)\n",
    "# optimizer_encoder = optim.SGD(model_encoder.parameters(), lr = learning_rate)\n",
    "# optimizer_decoder = optim.SGD(model_decoder.parameters(), lr = learning_rate)\n",
    "\n",
    "loss_func = nn.NLLLoss()\n",
    "losses = []\n",
    "avg_losses = []\n",
    "\n",
    "portion = len(corpus2id_fr) #10\n",
    "\n",
    "train = True\n",
    "print('epoch, total loss, duration')\n",
    "for e in range(epochs):\n",
    "    \n",
    "    then = datetime.now()\n",
    "    \n",
    "    total_loss = 0.0\n",
    "    for s in range(portion):\n",
    "     \n",
    "        current_input = corpus2id_fr[s]\n",
    "        gold_output = corpus2id_en[s]\n",
    "        \n",
    "        if len(current_input) > 0 and len(gold_output) > 0:\n",
    "            \n",
    "            optimizer_NMT.zero_grad()\n",
    "            \n",
    "            sent_fr = torch.tensor(np.asarray(current_input), dtype= torch.long)\n",
    "            sent_en = torch.tensor(np.asarray(gold_output), dtype= torch.long)\n",
    "\n",
    "            pos_fr = torch.tensor(np.asarray([p for p in range(len(sent_fr))]))\n",
    "            pos_en = torch.tensor(np.asarray([p for p in range(len(sent_en))]))\n",
    "        \n",
    "            pred, attention_weights = model_NMT(sent_fr, pos_fr, sent_en, train)\n",
    "            \n",
    "            sent_en = sent_en[1:len(sent_en)] #skip SOS\n",
    "            loss = loss_func(pred[0], sent_en)\n",
    "            loss.backward()\n",
    "            \n",
    "            optimizer_NMT.step()\n",
    "            \n",
    "            total_loss += loss.item() \n",
    "       \n",
    "    now = datetime.now()\n",
    "        \n",
    "    losses.append(total_loss)\n",
    "    \n",
    "    print(e, total_loss/portion, now-then)\n",
    "\n",
    "    write_test_eval(model_NMT, test_corpus2id_fr, test_corpus2id_en, e)\n",
    "\n",
    "    write_val_eval(model_NMT, val_corpus2id_fr, val_corpus2id_en, e)\n",
    "\n",
    "    with open('model_NMT' + str(portion) + '_epoch_' + str(e) + '.pickle','wb') as file:\n",
    "        pickle.dump(model_NMT,file)\n",
    "\n",
    "    \n",
    "iteration= list(range(len(losses)))\n",
    "\n",
    "plt.plot(iteration, losses)\n",
    "plt.xlabel(\"Iterations for MT\")\n",
    "plt.ylabel('Total loss')\n",
    "plt.title('Evolution of the loss as a function of the iteration')\n",
    "plt.savefig(\"mt\" + str(portion)+\".png\")\n",
    "plt.show()\n",
    "\n",
    "test_fr_sentence = corpus2id_fr[0]\n",
    "test_en_sentence = corpus2id_en[0]\n",
    "    \n",
    "decoder_outputs, decoder_attentions = evaluate_sent(model_NMT, test_fr_sentence, test_en_sentence)\n",
    "\n",
    "print(word_ids2string(test_fr_sentence, id2tokens_fr))\n",
    "print(word_ids2string(test_en_sentence, id2tokens_en))\n",
    "print(word_ids2string(decoder_outputs, id2tokens_en))"
   ]
  },
  {
   "cell_type": "code",
   "execution_count": 104,
   "metadata": {},
   "outputs": [
    {
     "name": "stdout",
     "output_type": "stream",
     "text": [
      "['<SOS>', 'un', 'homme', 'et', 'deux', 'filles', 'jouant', 'sur', 'le', 'rivage', 'de', 'la', 'plage', '<EOS>']\n",
      "14\n",
      "['<SOS>', 'a', 'man', 'and', 'two', 'girls', 'playing', 'on', 'the', 'shore', 'of', 'the', 'beach', '<EOS>']\n",
      "['a', 'man', 'and', 'girls', 'playing', 'the', 'beach', '<EOS>']\n",
      "8\n",
      "[]\n"
     ]
    },
    {
     "ename": "AttributeError",
     "evalue": "'list' object has no attribute 'exp'",
     "output_type": "error",
     "traceback": [
      "\u001b[0;31m---------------------------------------------------------------------------\u001b[0m",
      "\u001b[0;31mAttributeError\u001b[0m                            Traceback (most recent call last)",
      "\u001b[0;32m<ipython-input-104-41c730b0a3e0>\u001b[0m in \u001b[0;36m<module>\u001b[0;34m()\u001b[0m\n\u001b[1;32m     25\u001b[0m \u001b[0;34m\u001b[0m\u001b[0m\n\u001b[1;32m     26\u001b[0m \u001b[0mfrench_gold\u001b[0m \u001b[0;34m=\u001b[0m \u001b[0;34m(\u001b[0m\u001b[0;34m\" \"\u001b[0m\u001b[0;34m)\u001b[0m\u001b[0;34m.\u001b[0m\u001b[0mjoin\u001b[0m\u001b[0;34m(\u001b[0m\u001b[0mfrench_gold\u001b[0m\u001b[0;34m)\u001b[0m\u001b[0;34m\u001b[0m\u001b[0m\n\u001b[0;32m---> 27\u001b[0;31m \u001b[0mshowAttention\u001b[0m\u001b[0;34m(\u001b[0m\u001b[0mfrench_gold\u001b[0m\u001b[0;34m,\u001b[0m\u001b[0menglish_output\u001b[0m\u001b[0;34m,\u001b[0m\u001b[0mS\u001b[0m\u001b[0;34m,\u001b[0m\u001b[0mpair\u001b[0m\u001b[0;34m)\u001b[0m\u001b[0;34m\u001b[0m\u001b[0m\n\u001b[0m",
      "\u001b[0;32m<ipython-input-99-6aaa400b198a>\u001b[0m in \u001b[0;36mshowAttention\u001b[0;34m(input_sentence, output_words, attentions, sentence_number)\u001b[0m\n\u001b[1;32m      5\u001b[0m     \u001b[0mfig\u001b[0m \u001b[0;34m=\u001b[0m \u001b[0mplt\u001b[0m\u001b[0;34m.\u001b[0m\u001b[0mfigure\u001b[0m\u001b[0;34m(\u001b[0m\u001b[0;34m)\u001b[0m\u001b[0;34m\u001b[0m\u001b[0m\n\u001b[1;32m      6\u001b[0m     \u001b[0max\u001b[0m \u001b[0;34m=\u001b[0m \u001b[0mfig\u001b[0m\u001b[0;34m.\u001b[0m\u001b[0madd_subplot\u001b[0m\u001b[0;34m(\u001b[0m\u001b[0;36m111\u001b[0m\u001b[0;34m)\u001b[0m\u001b[0;34m\u001b[0m\u001b[0m\n\u001b[0;32m----> 7\u001b[0;31m     \u001b[0mattentions\u001b[0m \u001b[0;34m=\u001b[0m \u001b[0mattentions\u001b[0m\u001b[0;34m.\u001b[0m\u001b[0mexp\u001b[0m\u001b[0;34m(\u001b[0m\u001b[0;34m)\u001b[0m\u001b[0;34m\u001b[0m\u001b[0m\n\u001b[0m\u001b[1;32m      8\u001b[0m     \u001b[0mcax\u001b[0m \u001b[0;34m=\u001b[0m \u001b[0max\u001b[0m\u001b[0;34m.\u001b[0m\u001b[0mmatshow\u001b[0m\u001b[0;34m(\u001b[0m\u001b[0mattentions\u001b[0m\u001b[0;34m[\u001b[0m\u001b[0;34m:\u001b[0m\u001b[0;34m,\u001b[0m\u001b[0;34m:\u001b[0m\u001b[0;34m,\u001b[0m\u001b[0;36m0\u001b[0m\u001b[0;34m]\u001b[0m\u001b[0;34m.\u001b[0m\u001b[0mdata\u001b[0m\u001b[0;34m.\u001b[0m\u001b[0mnumpy\u001b[0m\u001b[0;34m(\u001b[0m\u001b[0;34m)\u001b[0m\u001b[0;34m,\u001b[0m \u001b[0mcmap\u001b[0m\u001b[0;34m=\u001b[0m\u001b[0;34m'bone'\u001b[0m\u001b[0;34m)\u001b[0m\u001b[0;34m\u001b[0m\u001b[0m\n\u001b[1;32m      9\u001b[0m     \u001b[0mfig\u001b[0m\u001b[0;34m.\u001b[0m\u001b[0mcolorbar\u001b[0m\u001b[0;34m(\u001b[0m\u001b[0mcax\u001b[0m\u001b[0;34m)\u001b[0m\u001b[0;34m\u001b[0m\u001b[0m\n",
      "\u001b[0;31mAttributeError\u001b[0m: 'list' object has no attribute 'exp'"
     ]
    }
   ],
   "source": [
    "pair = 22\n",
    "\n",
    "test_fr_sentence = test_corpus2id_fr[pair]\n",
    "test_en_sentence = test_corpus2id_en[pair]\n",
    "    \n",
    "decoder_outputs, decoder_attentions = evaluate_sent(model_NMT,test_fr_sentence, test_en_sentence)\n",
    "\n",
    "french_gold = word_ids2string(test_fr_sentence, id2tokens_fr)\n",
    "print(french_gold)\n",
    "print(len(word_ids2string(test_fr_sentence, id2tokens_fr)))\n",
    "\n",
    "english_gold = word_ids2string(test_en_sentence, id2tokens_en)\n",
    "print(english_gold)\n",
    "\n",
    "english_output = word_ids2string(decoder_outputs, id2tokens_en)\n",
    "print(english_output)\n",
    "print(len(word_ids2string(decoder_outputs, id2tokens_en)))\n",
    "\n",
    "# print(decoder_attentions.size())\n",
    "S = decoder_attentions\n",
    "sent_num = pair\n",
    "\n",
    "print(decoder_attentions)\n",
    "# visualize_attention(S,sent_num)\n",
    "\n",
    "french_gold = (\" \").join(french_gold)\n",
    "showAttention(french_gold,english_output,S,pair)"
   ]
  },
  {
   "cell_type": "code",
   "execution_count": null,
   "metadata": {
    "collapsed": true
   },
   "outputs": [],
   "source": [
    "with open('model_encoder' + str(portion) + '.pickle','rb') as file:\n",
    "    model_encoder = pickle.load(file)\n",
    "      \n",
    "\n",
    "with open('model_decoder' + str(portion) + '.pickle','rb') as file:\n",
    "    model_decoder = pickle.load(file)"
   ]
  },
  {
   "cell_type": "code",
   "execution_count": null,
   "metadata": {
    "collapsed": true
   },
   "outputs": [],
   "source": []
  },
  {
   "cell_type": "code",
   "execution_count": 71,
   "metadata": {
    "collapsed": true
   },
   "outputs": [],
   "source": [
    "def evaluate_sent(model_NMT, sent_fr, sent_en):\n",
    "    \n",
    "    with torch.no_grad():\n",
    "        \n",
    "        sent_fr = torch.tensor(np.asarray(sent_fr), dtype= torch.long)\n",
    "        sent_en = torch.tensor(np.asarray(sent_en), dtype= torch.long)\n",
    "\n",
    "        pos_fr = torch.tensor(np.asarray([p for p in range(len(sent_fr))]))\n",
    "        pos_en = torch.tensor(np.asarray([p for p in range(len(sent_en))]))\n",
    "\n",
    "#         average_context, stacked_contexts = model_encoder(sent_fr, pos_fr)\n",
    "        \n",
    "#         decoder_outputs, decoder_attentions = model_decoder(sent_en, average_context, stacked_contexts, train=False)\n",
    "        \n",
    "        decoder_outputs, decoder_attentions = model_NMT(sent_fr, pos_fr, sent_en, train=False)\n",
    "        \n",
    "    return decoder_outputs, decoder_attentions"
   ]
  },
  {
   "cell_type": "code",
   "execution_count": 72,
   "metadata": {
    "collapsed": true
   },
   "outputs": [],
   "source": [
    "def word_ids2string(sentence, id2token):\n",
    "    \n",
    "    converted = []\n",
    "\n",
    "    for s in sentence:\n",
    "        converted.append(id2token[s])\n",
    "        \n",
    "    return converted"
   ]
  },
  {
   "cell_type": "code",
   "execution_count": 73,
   "metadata": {
    "collapsed": true
   },
   "outputs": [],
   "source": [
    "#write the results of the predicted sentences to a txt file for evaluation\n",
    "\n",
    "def write_test_eval(model_NMT, test_sentences_fr, test_sentences_en, epoch):\n",
    "    \n",
    "    \n",
    "    filename = \"test_results_emb150_\"+str(epoch+1)+\".txt\" \n",
    "    output = open(filename,\"w\") \n",
    "    \n",
    "    for sent in range(len(test_sentences_fr)):\n",
    "\n",
    "        decoder_outputs, decoder_attentions = evaluate_sent(model_NMT, test_sentences_fr[sent], test_sentences_en[sent])\n",
    "#         print(decoder_attentions.size())\n",
    "        \n",
    "        output_list = word_ids2string(decoder_outputs, id2tokens_en)\n",
    "        if '<EOS>' in output_list:\n",
    "            output_list.remove('<EOS>')\n",
    "        \n",
    "        output_string = (\" \").join(output_list)\n",
    "        \n",
    "        output.write(output_string + \"\\n\")\n",
    "\n",
    "    output.close()\n",
    "    "
   ]
  },
  {
   "cell_type": "code",
   "execution_count": 95,
   "metadata": {
    "collapsed": true
   },
   "outputs": [],
   "source": [
    "#write the results of the predicted sentences to a txt file for evaluation\n",
    "\n",
    "def write_val_eval(model_NMT, val_sentences_fr, val_sentences_en, epoch):\n",
    "    \n",
    "    \n",
    "    filename = \"val_results_emb200_\"+str(epoch+1)+\".txt\" \n",
    "    output = open(filename,\"w\") \n",
    "    \n",
    "    for sent in range(len(val_sentences_fr)):\n",
    "\n",
    "        decoder_outputs, decoder_attentions = evaluate_sent(model_NMT, val_sentences_fr[sent], val_sentences_en[sent])\n",
    "#         print(decoder_attentions.size())\n",
    "        \n",
    "        output_list = word_ids2string(decoder_outputs, id2tokens_en)\n",
    "        if '<EOS>' in output_list:\n",
    "            output_list.remove('<EOS>')\n",
    "        \n",
    "        output_string = (\" \").join(output_list)\n",
    "        \n",
    "        output.write(output_string + \"\\n\")\n",
    "\n",
    "    output.close()\n",
    "    "
   ]
  },
  {
   "cell_type": "code",
   "execution_count": 60,
   "metadata": {
    "collapsed": true
   },
   "outputs": [],
   "source": [
    "write_test_eval(model_NMT, test_corpus2id_fr, test_corpus2id_en,1)"
   ]
  },
  {
   "cell_type": "code",
   "execution_count": 75,
   "metadata": {},
   "outputs": [
    {
     "ename": "NameError",
     "evalue": "name 'val_corpus2id_fr' is not defined",
     "output_type": "error",
     "traceback": [
      "\u001b[0;31m---------------------------------------------------------------------------\u001b[0m",
      "\u001b[0;31mNameError\u001b[0m                                 Traceback (most recent call last)",
      "\u001b[0;32m<ipython-input-75-81506811cd75>\u001b[0m in \u001b[0;36m<module>\u001b[0;34m()\u001b[0m\n\u001b[0;32m----> 1\u001b[0;31m \u001b[0mwrite_val_eval\u001b[0m\u001b[0;34m(\u001b[0m\u001b[0mmodel_NMT\u001b[0m\u001b[0;34m,\u001b[0m \u001b[0mval_corpus2id_fr\u001b[0m\u001b[0;34m,\u001b[0m \u001b[0mval_corpus2id_en\u001b[0m\u001b[0;34m,\u001b[0m\u001b[0;36m1\u001b[0m\u001b[0;34m)\u001b[0m\u001b[0;34m\u001b[0m\u001b[0m\n\u001b[0m",
      "\u001b[0;31mNameError\u001b[0m: name 'val_corpus2id_fr' is not defined"
     ]
    }
   ],
   "source": [
    "write_val_eval(model_NMT, val_corpus2id_fr, val_corpus2id_en,1)"
   ]
  },
  {
   "cell_type": "code",
   "execution_count": 100,
   "metadata": {
    "collapsed": true
   },
   "outputs": [],
   "source": [
    "def visualize_attention(S,sent_num):\n",
    "    \n",
    "    #model_encoder, model_decoder, sent_en, sent_fr\n",
    "    \n",
    "    #************************************************************************\n",
    "    # S is the log softmax version of S, also a torch Tensor! (actually more acurately it's a Variable(Tensor(..))\n",
    "    #************************************************************************\n",
    "\n",
    "    S = S.exp()\n",
    "    \n",
    "    # Plot the attention tensor\n",
    "    plt.clf()\n",
    "    numpy_S = S.data.numpy()\n",
    "    numpy_S = numpy_S[:,:,0]\n",
    "    #print(numpy_S.shape)\n",
    "\n",
    "    plt.imshow(numpy_S)\n",
    "    imname = \"attentions-test-\" + str(sent_num)\n",
    "    plt.savefig(imname)\n"
   ]
  },
  {
   "cell_type": "code",
   "execution_count": 99,
   "metadata": {
    "collapsed": true
   },
   "outputs": [],
   "source": [
    "import matplotlib.ticker as ticker\n",
    "\n",
    "def showAttention(input_sentence, output_words, attentions, sentence_number):\n",
    "    # Set up figure with colorbar\n",
    "    fig = plt.figure()\n",
    "    ax = fig.add_subplot(111)\n",
    "    attentions = attentions.exp()\n",
    "    cax = ax.matshow(attentions[:,:,0].data.numpy(), cmap='bone')\n",
    "    fig.colorbar(cax)\n",
    "\n",
    "    # Set up axes\n",
    "    ax.set_xticklabels([''] + input_sentence.split(' ') +\n",
    "                       ['<EOS>'], rotation=90)\n",
    "    ax.set_yticklabels([''] + output_words)\n",
    "\n",
    "    # Show label at every tick\n",
    "    ax.xaxis.set_major_locator(ticker.MultipleLocator(1))\n",
    "    ax.yaxis.set_major_locator(ticker.MultipleLocator(1))\n",
    "    \n",
    "    imname = \"attentions-test-\" + str(sentence_number)\n",
    "    plt.savefig(imname)\n",
    "    plt.show()\n",
    "  "
   ]
  },
  {
   "cell_type": "code",
   "execution_count": 96,
   "metadata": {},
   "outputs": [
    {
     "name": "stdout",
     "output_type": "stream",
     "text": [
      "epoch, total loss, duration\n",
      "0 3.7620827094891975 0:30:23.623243\n",
      "1 2.9023695371192075 0:25:53.127125\n",
      "2 2.536045916206878 0:25:51.384735\n",
      "3 2.2556720909275887 0:25:53.850150\n",
      "4 2.049656690378898 0:25:55.461226\n",
      "5 1.8903230598902907 0:25:58.048724\n",
      "6 1.757908841693581 0:26:44.784249\n",
      "7 1.645222970711517 0:25:53.442104\n",
      "8 1.5492726202767728 0:25:53.510316\n",
      "9 1.4641358815834953 0:25:56.401772\n",
      "10 1.387543331701758 0:25:54.390560\n",
      "11 1.3176414698759928 0:25:48.065934\n",
      "12 1.2541609259561861 0:26:00.705117\n",
      "13 1.1974962473980248 0:26:18.401567\n",
      "14 1.1498773464077827 0:51:44.028819\n",
      "15 1.1061053970843104 0:29:23.716992\n",
      "16 1.0665926625876012 0:27:33.203490\n",
      "17 1.0333301932267396 0:29:38.950412\n",
      "18 1.003777389607906 0:28:17.641892\n",
      "19 0.9746665452337856 0:27:24.334014\n"
     ]
    },
    {
     "data": {
      "image/png": "[encoded data removed]",
      "text/plain": [
       "<matplotlib.figure.Figure at 0x1a27056ac8>"
      ]
     },
     "metadata": {},
     "output_type": "display_data"
    },
    {
     "name": "stdout",
     "output_type": "stream",
     "text": [
      "['<SOS>', 'deux', 'jeunes', 'hommes', 'blancs', 'sont', 'dehors', 'près', 'de', 'b@@', 'u@@', 'i@@', 's@@', 's@@', 'ons', '.', '<EOS>']\n",
      "['<SOS>', 'two', 'young', ',', 'white', 'm@@', 'al@@', 'es', 'are', 'outside', 'near', 'many', 'bu@@', 'sh@@', 'es', '.', '<EOS>']\n",
      "['two', 'young', 'men', 'stand', 'near', 'b@@', 'i@@', 'king', 'w@@', 'i@@', 'l@@', 's', 'two', 'young', 'men', 'stand', 'near', 'b@@', 'l@@', 'o@@', 'w@@', 's', 'two', 'a@@', 'c@@', 'o@@', 'r@@', 'e', 'two', 'young', 'men', 'stand', 'near', 'bu@@', 'sh@@', 'es', '.', '<EOS>']\n"
     ]
    }
   ],
   "source": [
    "epochs = 20\n",
    "learning_rate = 0.1\n",
    "w_embedding_dim = 200\n",
    "p_embedding_dim = 200\n",
    "dec_embedding_dim = 200\n",
    "dropout_prob = 0.1\n",
    "\n",
    "# model_encoder = Encoder(vocab_size_fr, w_embedding_dim, p_embedding_dim, dec_embedding_dim, max_sentence_length)\n",
    "# model_decoder = Decoder(dec_embedding_dim, vocab_size_en, max_sentence_length, dropout_prob)\n",
    "model_NMT = NMTModel(vocab_size_fr, w_embedding_dim, p_embedding_dim, dec_embedding_dim, max_sentence_length, vocab_size_en, dropout_prob)\n",
    "\n",
    "optimizer_NMT = optim.SGD(model_NMT.parameters(), lr = learning_rate)\n",
    "# optimizer_encoder = optim.SGD(model_encoder.parameters(), lr = learning_rate)\n",
    "# optimizer_decoder = optim.SGD(model_decoder.parameters(), lr = learning_rate)\n",
    "\n",
    "loss_func = nn.NLLLoss()\n",
    "losses = []\n",
    "avg_losses = []\n",
    "\n",
    "portion = len(corpus2id_fr) #10\n",
    "\n",
    "train = True\n",
    "print('epoch, total loss, duration')\n",
    "for e in range(epochs):\n",
    "    \n",
    "    then = datetime.now()\n",
    "    \n",
    "    total_loss = 0.0\n",
    "    for s in range(portion):\n",
    "     \n",
    "        current_input = corpus2id_fr[s]\n",
    "        gold_output = corpus2id_en[s]\n",
    "        \n",
    "        if len(current_input) > 0 and len(gold_output) > 0:\n",
    "            \n",
    "            optimizer_NMT.zero_grad()\n",
    "            \n",
    "            sent_fr = torch.tensor(np.asarray(current_input), dtype= torch.long)\n",
    "            sent_en = torch.tensor(np.asarray(gold_output), dtype= torch.long)\n",
    "\n",
    "            pos_fr = torch.tensor(np.asarray([p for p in range(len(sent_fr))]))\n",
    "            pos_en = torch.tensor(np.asarray([p for p in range(len(sent_en))]))\n",
    "        \n",
    "            pred, attention_weights = model_NMT(sent_fr, pos_fr, sent_en, train)\n",
    "            \n",
    "            sent_en = sent_en[1:len(sent_en)] #skip SOS\n",
    "            loss = loss_func(pred[0], sent_en)\n",
    "            loss.backward()\n",
    "            \n",
    "            optimizer_NMT.step()\n",
    "            \n",
    "            total_loss += loss.item() \n",
    "       \n",
    "    now = datetime.now()\n",
    "        \n",
    "    losses.append(total_loss)\n",
    "    \n",
    "    print(e, total_loss/portion, now-then)\n",
    "\n",
    "    write_test_eval(model_NMT, test_corpus2id_fr, test_corpus2id_en, e)\n",
    "\n",
    "    write_val_eval(model_NMT, val_corpus2id_fr, val_corpus2id_en, e)\n",
    "\n",
    "    with open('model_NMT_emb200' + str(portion) + '_epoch_' + str(e) + '.pickle','wb') as file:\n",
    "        pickle.dump(model_NMT,file)\n",
    "\n",
    "    \n",
    "iteration= list(range(len(losses)))\n",
    "\n",
    "plt.plot(iteration, losses)\n",
    "plt.xlabel(\"Iterations for MT\")\n",
    "plt.ylabel('Total loss')\n",
    "plt.title('Evolution of the loss as a function of the iteration')\n",
    "plt.savefig(\"mt_emb200\" + str(portion)+\".png\")\n",
    "plt.show()\n",
    "\n",
    "test_fr_sentence = corpus2id_fr[0]\n",
    "test_en_sentence = corpus2id_en[0]\n",
    "    \n",
    "decoder_outputs, decoder_attentions = evaluate_sent(model_NMT, test_fr_sentence, test_en_sentence)\n",
    "\n",
    "print(word_ids2string(test_fr_sentence, id2tokens_fr))\n",
    "print(word_ids2string(test_en_sentence, id2tokens_en))\n",
    "print(word_ids2string(decoder_outputs, id2tokens_en))"
   ]
  },
  {
   "cell_type": "code",
   "execution_count": null,
   "metadata": {
    "collapsed": true
   },
   "outputs": [],
   "source": []
  }
 ],
 "metadata": {
  "kernelspec": {
   "display_name": "Python [default]",
   "language": "python",
   "name": "python3"
  },
  "language_info": {
   "codemirror_mode": {
    "name": "ipython",
    "version": 3
   },
   "file_extension": ".py",
   "mimetype": "text/x-python",
   "name": "python",
   "nbconvert_exporter": "python",
   "pygments_lexer": "ipython3",
   "version": "3.6.3"
  }
 },
 "nbformat": 4,
 "nbformat_minor": 2
}
